{
 "cells": [
  {
   "cell_type": "markdown",
   "metadata": {},
   "source": [
    "<b>This project focuses on the Fama French Three Factor Regression Model for Superconductor Technologies Inc.'s stock. The company was randomly picked. The project will be incorporating Numpy techniques and Statsmodels API. The company's stock returns were extracted from yahoo finance https://finance.yahoo.com/quote/SCON/ two years ago and the Fama French Factors were extracted from http://mba.tuck.dartmouth.edu/pages/faculty/ken.french/data_library.html two years ago, too."
   ]
  },
  {
   "cell_type": "code",
   "execution_count": 1,
   "metadata": {},
   "outputs": [],
   "source": [
    "import numpy as np\n",
    "import matplotlib.pyplot as plt\n",
    "import statsmodels.api as sm"
   ]
  },
  {
   "cell_type": "code",
   "execution_count": 2,
   "metadata": {},
   "outputs": [],
   "source": [
    "def float_formatter(x):\n",
    "    return \"{:7.4f}\".format(x)"
   ]
  },
  {
   "cell_type": "code",
   "execution_count": 3,
   "metadata": {},
   "outputs": [],
   "source": [
    "np.set_printoptions(formatter={'float_kind':float_formatter})"
   ]
  },
  {
   "cell_type": "code",
   "execution_count": 4,
   "metadata": {},
   "outputs": [],
   "source": [
    "def reg_m(y, x):\n",
    "    X = np.hstack((np.ones((len(x),1)), x))     # adds column of ones to X\n",
    "    results = sm.OLS(y, X).fit()                # creates object containing regression results\n",
    "    return results"
   ]
  },
  {
   "cell_type": "markdown",
   "metadata": {},
   "source": [
    "<b>The code above is useful and will help facilitate the regression output. This code was created and shared by Prof. Jonathan Reuter, PhD"
   ]
  },
  {
   "cell_type": "markdown",
   "metadata": {},
   "source": [
    "<b>Step 1:</b> Estimate the Fama-French Three-Factor Model for your stock.Use the regression output---and if-else statements---to determine (and print) whether your alpha is statistically significantly different from zero (at 5% level in a two-sided hypothesis test) and whether any of the estimated beta is statistically significantly different from zero (at 5% level in a two-sided hypothesis test)."
   ]
  },
  {
   "cell_type": "code",
   "execution_count": null,
   "metadata": {},
   "outputs": [],
   "source": [
    "doc = np.load('SCON-monthly-alvarajc.npy')\n",
    "names = np.array(['yyyymmdd','year','close', 'mret', 'rf', 'mktrf', 'smb', 'hml']) \n",
    "print(doc.shape) "
   ]
  },
  {
   "cell_type": "code",
   "execution_count": null,
   "metadata": {},
   "outputs": [],
   "source": [
    "rf = doc[:,names=='rf'].reshape(36,1)\n",
    "mktrf = doc[:,names=='mktrf'].reshape(36,1)\n",
    "smb = doc[:,names=='smb'].reshape(36,1)\n",
    "hml = doc[:,names=='hml'].reshape(36,1)\n",
    "y = doc[:,names=='mret'].reshape(36,1) - rf \n",
    "X = np.hstack((mktrf,smb,hml))"
   ]
  },
  {
   "cell_type": "code",
   "execution_count": null,
   "metadata": {},
   "outputs": [],
   "source": [
    "reg_m(y, X).summary()"
   ]
  },
  {
   "cell_type": "code",
   "execution_count": null,
   "metadata": {},
   "outputs": [],
   "source": [
    "result = reg_m(y, X)"
   ]
  },
  {
   "cell_type": "code",
   "execution_count": null,
   "metadata": {},
   "outputs": [],
   "source": [
    "alpha = result.params[0]\n",
    "alpha = float_formatter(alpha)\n",
    "a_pvalue = result.pvalues[0]\n",
    "a_pvalue = float_formatter(a_pvalue)\n",
    "print(f'The alpha is statistically significant from 0 with a coefficient of {alpha} and a p-value of {a_pvalue}')"
   ]
  },
  {
   "cell_type": "code",
   "execution_count": null,
   "metadata": {},
   "outputs": [],
   "source": [
    "beta = result.params[1:] \n",
    "b_pvalues = result.pvalues[1:]\n",
    "a1 = np.array([beta[0],b_pvalues[0]])\n",
    "a2 = np.array([beta[1],b_pvalues[1]])\n",
    "a3 = np.array([beta[2],b_pvalues[2]])\n",
    "final_array = np.array([a1,a2,a3])\n",
    "for i in final_array: \n",
    "    if i[1] < 0.05: \n",
    "        print(f'The beta {float_formatter(i[0])} is statistically significant from 0 with a p-value of {float_formatter(i[1])}')\n",
    "    else: \n",
    "        print(f'The beta {float_formatter(i[0])} is not statistically significant from 0 with a p-value of {float_formatter(i[1])}')"
   ]
  },
  {
   "cell_type": "markdown",
   "metadata": {},
   "source": [
    "<b>Step 2:</b> You want to backtest a simple trading strategy that has you earning the monthly return of the stock from previous results in odd months (January, March, ...) and the monthly risk-free rate of return in the even months (February, April, ...). For simplicity, assume that you invest the same amount of money in this strategy every month, so that you can focus on average monthly returns rather than dollar-weighted average monthly returns. \n",
    "\n",
    "- Calculate (and print) the average monthly return of this trading strategy. \n",
    "- Estimate the CAPM alpha and beta associated with this trading strategy. Use the regression output---and if-else statements---to determine whether your CAPM alpha is statistically significantly different from zero (at 5% level in a two-sided hypothesis test) and whether the estimated CAPM beta is statistically significantly different from zero (at 5% level in a two-sided hypothesis test). "
   ]
  },
  {
   "cell_type": "code",
   "execution_count": null,
   "metadata": {},
   "outputs": [],
   "source": [
    "n = np.load('SCON-monthly-alvarajc.npy')\n",
    "n_names = np.array(['yyyymm', 'year', 'close', 'mret', 'rf', 'mktrf', 'smb', 'hml']) \n",
    "rf_even = []\n",
    "mret_odd = []\n",
    "for i in n: \n",
    "    if i[0]%2 == 0: \n",
    "        rf_even.append(i)\n",
    "    else: \n",
    "        mret_odd.append(i)    "
   ]
  },
  {
   "cell_type": "code",
   "execution_count": null,
   "metadata": {},
   "outputs": [],
   "source": [
    "for ele in rf_even: \n",
    "    ele[3]=ele[4] "
   ]
  },
  {
   "cell_type": "code",
   "execution_count": null,
   "metadata": {},
   "outputs": [],
   "source": [
    "list_all = rf_even + mret_odd\n",
    "mret_odd_new = []\n",
    "def takefirst(l):\n",
    "    return l[0]\n",
    "\n",
    "for i in range(len(mret_odd)):\n",
    "    row = []\n",
    "    for j in range(len(mret_odd[i])):\n",
    "        row.append(mret_odd[i][j])\n",
    "    mret_odd_new.append(row)\n",
    "rf_even_new = []\n",
    "for i in range(len(rf_even)):\n",
    "    row = []\n",
    "    for j in range(len(rf_even[i])):\n",
    "        row.append(rf_even[i][j])\n",
    "    rf_even_new.append(row)\n",
    "list_all = mret_odd_new + rf_even_new\n",
    "list_all.sort(key=takefirst)"
   ]
  },
  {
   "cell_type": "code",
   "execution_count": null,
   "metadata": {},
   "outputs": [],
   "source": [
    "array_all = np.array(list_all) \n",
    "a_names = np.array(['yyyymm', 'year', 'close', 'mret', 'rf', 'mktrf', 'smb', 'hml'])\n",
    "mo_ret = array_all[:,a_names=='mret'] \n",
    "avg_monthly_return = np.mean(mo_ret)\n",
    "print(float_formatter(avg_monthly_return))"
   ]
  },
  {
   "cell_type": "code",
   "execution_count": null,
   "metadata": {},
   "outputs": [],
   "source": [
    "rf = array_all[:, a_names=='rf'].reshape(36,1)\n",
    "y = array_all[:, a_names=='mret'].reshape(36,1) - rf\n",
    "mktrf = array_all[:, a_names=='mktrf'].reshape(36,1)"
   ]
  },
  {
   "cell_type": "code",
   "execution_count": null,
   "metadata": {},
   "outputs": [],
   "source": [
    "reg_m(y,mktrf).summary()"
   ]
  },
  {
   "cell_type": "code",
   "execution_count": null,
   "metadata": {},
   "outputs": [],
   "source": [
    "result2 = reg_m(y,mktrf)"
   ]
  },
  {
   "cell_type": "code",
   "execution_count": null,
   "metadata": {},
   "outputs": [],
   "source": [
    "alpha = result2.params[0]\n",
    "alpha = float_formatter(alpha)\n",
    "a_pvalue = result2.pvalues[0]\n",
    "a_pvalue = float_formatter(a_pvalue)\n",
    "print(f'The alpha is statistically significant from 0 with a coefficient of {alpha} and a p-value of {a_pvalue}')"
   ]
  },
  {
   "cell_type": "code",
   "execution_count": null,
   "metadata": {},
   "outputs": [],
   "source": [
    "beta = result2.params[1]\n",
    "beta = float_formatter(beta)\n",
    "b_pvalues = result2.pvalues[1]\n",
    "b_pvalues = float_formatter(b_pvalues)\n",
    "print(f'The beta is not statistically significant from 0 with a coefficient of {beta} and a p-value of {b_pvalues}')"
   ]
  }
 ],
 "metadata": {
  "kernelspec": {
   "display_name": "Python 3",
   "language": "python",
   "name": "python3"
  },
  "language_info": {
   "codemirror_mode": {
    "name": "ipython",
    "version": 3
   },
   "file_extension": ".py",
   "mimetype": "text/x-python",
   "name": "python",
   "nbconvert_exporter": "python",
   "pygments_lexer": "ipython3",
   "version": "3.8.3"
  }
 },
 "nbformat": 4,
 "nbformat_minor": 4
}
