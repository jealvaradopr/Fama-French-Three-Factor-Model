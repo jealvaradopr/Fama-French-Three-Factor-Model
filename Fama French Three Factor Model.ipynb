{
 "cells": [
  {
   "cell_type": "markdown",
   "metadata": {},
   "source": [
    "<b>This project focuses on the Fama French Three Factor Regression Model for Superconductor Technologies Inc.'s stock. The company was randomly picked. The project will be incorporating Numpy techniques and Statsmodels API. The company's stock returns were extracted from yahoo finance https://finance.yahoo.com/quote/SCON/ two years ago and the Fama French Factors were extracted from http://mba.tuck.dartmouth.edu/pages/faculty/ken.french/data_library.html two years ago, too."
   ]
  },
  {
   "cell_type": "code",
   "execution_count": 1,
   "metadata": {},
   "outputs": [],
   "source": [
    "import numpy as np\n",
    "import matplotlib.pyplot as plt\n",
    "import statsmodels.api as sm"
   ]
  },
  {
   "cell_type": "code",
   "execution_count": 2,
   "metadata": {},
   "outputs": [],
   "source": [
    "def float_formatter(x):\n",
    "    return \"{:7.4f}\".format(x)"
   ]
  },
  {
   "cell_type": "code",
   "execution_count": 3,
   "metadata": {},
   "outputs": [],
   "source": [
    "np.set_printoptions(formatter={'float_kind':float_formatter})"
   ]
  },
  {
   "cell_type": "code",
   "execution_count": 4,
   "metadata": {},
   "outputs": [],
   "source": [
    "def reg_m(y, x):\n",
    "    X = np.hstack((np.ones((len(x),1)), x))     # adds column of ones to X\n",
    "    results = sm.OLS(y, X).fit()                # creates object containing regression results\n",
    "    return results"
   ]
  },
  {
   "cell_type": "markdown",
   "metadata": {},
   "source": [
    "<b>The code above is useful and will help facilitate the regression output. This code was created and shared by Prof. Jonathan Reuter, PhD"
   ]
  },
  {
   "cell_type": "markdown",
   "metadata": {},
   "source": [
    "<b>Step 1:</b> Estimate the Fama-French Three-Factor Model for your stock.Use the regression output---and if-else statements---to determine (and print) whether your alpha is statistically significantly different from zero (at 5% level in a two-sided hypothesis test) and whether any of the estimated beta is statistically significantly different from zero (at 5% level in a two-sided hypothesis test)."
   ]
  },
  {
   "cell_type": "code",
   "execution_count": 5,
   "metadata": {},
   "outputs": [
    {
     "name": "stdout",
     "output_type": "stream",
     "text": [
      "(36, 8)\n"
     ]
    }
   ],
   "source": [
    "doc = np.load('SCON-monthly.npy')\n",
    "names = np.array(['yyyymmdd','year','close', 'mret', 'rf', 'mktrf', 'smb', 'hml']) \n",
    "print(doc.shape) "
   ]
  },
  {
   "cell_type": "code",
   "execution_count": 6,
   "metadata": {},
   "outputs": [],
   "source": [
    "rf = doc[:,names=='rf'].reshape(36,1)\n",
    "mktrf = doc[:,names=='mktrf'].reshape(36,1)\n",
    "smb = doc[:,names=='smb'].reshape(36,1)\n",
    "hml = doc[:,names=='hml'].reshape(36,1)\n",
    "y = doc[:,names=='mret'].reshape(36,1) - rf \n",
    "X = np.hstack((mktrf,smb,hml))"
   ]
  },
  {
   "cell_type": "code",
   "execution_count": 7,
   "metadata": {},
   "outputs": [
    {
     "data": {
      "text/html": [
       "<table class=\"simpletable\">\n",
       "<caption>OLS Regression Results</caption>\n",
       "<tr>\n",
       "  <th>Dep. Variable:</th>            <td>y</td>        <th>  R-squared:         </th> <td>   0.180</td>\n",
       "</tr>\n",
       "<tr>\n",
       "  <th>Model:</th>                   <td>OLS</td>       <th>  Adj. R-squared:    </th> <td>   0.103</td>\n",
       "</tr>\n",
       "<tr>\n",
       "  <th>Method:</th>             <td>Least Squares</td>  <th>  F-statistic:       </th> <td>   2.336</td>\n",
       "</tr>\n",
       "<tr>\n",
       "  <th>Date:</th>             <td>Fri, 11 Sep 2020</td> <th>  Prob (F-statistic):</th>  <td>0.0924</td> \n",
       "</tr>\n",
       "<tr>\n",
       "  <th>Time:</th>                 <td>02:35:24</td>     <th>  Log-Likelihood:    </th> <td>  2.4903</td>\n",
       "</tr>\n",
       "<tr>\n",
       "  <th>No. Observations:</th>      <td>    36</td>      <th>  AIC:               </th> <td>   3.019</td>\n",
       "</tr>\n",
       "<tr>\n",
       "  <th>Df Residuals:</th>          <td>    32</td>      <th>  BIC:               </th> <td>   9.354</td>\n",
       "</tr>\n",
       "<tr>\n",
       "  <th>Df Model:</th>              <td>     3</td>      <th>                     </th>     <td> </td>   \n",
       "</tr>\n",
       "<tr>\n",
       "  <th>Covariance Type:</th>      <td>nonrobust</td>    <th>                     </th>     <td> </td>   \n",
       "</tr>\n",
       "</table>\n",
       "<table class=\"simpletable\">\n",
       "<tr>\n",
       "    <td></td>       <th>coef</th>     <th>std err</th>      <th>t</th>      <th>P>|t|</th>  <th>[0.025</th>    <th>0.975]</th>  \n",
       "</tr>\n",
       "<tr>\n",
       "  <th>const</th> <td>    0.9433</td> <td>    0.042</td> <td>   22.457</td> <td> 0.000</td> <td>    0.858</td> <td>    1.029</td>\n",
       "</tr>\n",
       "<tr>\n",
       "  <th>x1</th>    <td>   -0.2311</td> <td>    1.388</td> <td>   -0.167</td> <td> 0.869</td> <td>   -3.058</td> <td>    2.596</td>\n",
       "</tr>\n",
       "<tr>\n",
       "  <th>x2</th>    <td>    4.7094</td> <td>    1.811</td> <td>    2.600</td> <td> 0.014</td> <td>    1.020</td> <td>    8.399</td>\n",
       "</tr>\n",
       "<tr>\n",
       "  <th>x3</th>    <td>   -0.8420</td> <td>    1.611</td> <td>   -0.523</td> <td> 0.605</td> <td>   -4.123</td> <td>    2.439</td>\n",
       "</tr>\n",
       "</table>\n",
       "<table class=\"simpletable\">\n",
       "<tr>\n",
       "  <th>Omnibus:</th>       <td> 3.081</td> <th>  Durbin-Watson:     </th> <td>   2.113</td>\n",
       "</tr>\n",
       "<tr>\n",
       "  <th>Prob(Omnibus):</th> <td> 0.214</td> <th>  Jarque-Bera (JB):  </th> <td>   2.072</td>\n",
       "</tr>\n",
       "<tr>\n",
       "  <th>Skew:</th>          <td> 0.194</td> <th>  Prob(JB):          </th> <td>   0.355</td>\n",
       "</tr>\n",
       "<tr>\n",
       "  <th>Kurtosis:</th>      <td> 4.110</td> <th>  Cond. No.          </th> <td>    50.2</td>\n",
       "</tr>\n",
       "</table><br/><br/>Warnings:<br/>[1] Standard Errors assume that the covariance matrix of the errors is correctly specified."
      ],
      "text/plain": [
       "<class 'statsmodels.iolib.summary.Summary'>\n",
       "\"\"\"\n",
       "                            OLS Regression Results                            \n",
       "==============================================================================\n",
       "Dep. Variable:                      y   R-squared:                       0.180\n",
       "Model:                            OLS   Adj. R-squared:                  0.103\n",
       "Method:                 Least Squares   F-statistic:                     2.336\n",
       "Date:                Fri, 11 Sep 2020   Prob (F-statistic):             0.0924\n",
       "Time:                        02:35:24   Log-Likelihood:                 2.4903\n",
       "No. Observations:                  36   AIC:                             3.019\n",
       "Df Residuals:                      32   BIC:                             9.354\n",
       "Df Model:                           3                                         \n",
       "Covariance Type:            nonrobust                                         \n",
       "==============================================================================\n",
       "                 coef    std err          t      P>|t|      [0.025      0.975]\n",
       "------------------------------------------------------------------------------\n",
       "const          0.9433      0.042     22.457      0.000       0.858       1.029\n",
       "x1            -0.2311      1.388     -0.167      0.869      -3.058       2.596\n",
       "x2             4.7094      1.811      2.600      0.014       1.020       8.399\n",
       "x3            -0.8420      1.611     -0.523      0.605      -4.123       2.439\n",
       "==============================================================================\n",
       "Omnibus:                        3.081   Durbin-Watson:                   2.113\n",
       "Prob(Omnibus):                  0.214   Jarque-Bera (JB):                2.072\n",
       "Skew:                           0.194   Prob(JB):                        0.355\n",
       "Kurtosis:                       4.110   Cond. No.                         50.2\n",
       "==============================================================================\n",
       "\n",
       "Warnings:\n",
       "[1] Standard Errors assume that the covariance matrix of the errors is correctly specified.\n",
       "\"\"\""
      ]
     },
     "execution_count": 7,
     "metadata": {},
     "output_type": "execute_result"
    }
   ],
   "source": [
    "reg_m(y, X).summary()"
   ]
  },
  {
   "cell_type": "code",
   "execution_count": 8,
   "metadata": {},
   "outputs": [],
   "source": [
    "result = reg_m(y, X)"
   ]
  },
  {
   "cell_type": "code",
   "execution_count": 9,
   "metadata": {},
   "outputs": [
    {
     "name": "stdout",
     "output_type": "stream",
     "text": [
      "The alpha is statistically significant from 0 with a coefficient of  0.9433 and a p-value of  0.0000\n"
     ]
    }
   ],
   "source": [
    "alpha = result.params[0]\n",
    "alpha = float_formatter(alpha)\n",
    "a_pvalue = result.pvalues[0]\n",
    "a_pvalue = float_formatter(a_pvalue)\n",
    "print(f'The alpha is statistically significant from 0 with a coefficient of {alpha} and a p-value of {a_pvalue}')"
   ]
  },
  {
   "cell_type": "code",
   "execution_count": 10,
   "metadata": {},
   "outputs": [
    {
     "name": "stdout",
     "output_type": "stream",
     "text": [
      "The beta -0.2311 is not statistically significant from 0 with a p-value of  0.8688\n",
      "The beta  4.7094 is statistically significant from 0 with a p-value of  0.0140\n",
      "The beta -0.8420 is not statistically significant from 0 with a p-value of  0.6048\n"
     ]
    }
   ],
   "source": [
    "beta = result.params[1:] \n",
    "b_pvalues = result.pvalues[1:]\n",
    "a1 = np.array([beta[0],b_pvalues[0]])\n",
    "a2 = np.array([beta[1],b_pvalues[1]])\n",
    "a3 = np.array([beta[2],b_pvalues[2]])\n",
    "final_array = np.array([a1,a2,a3])\n",
    "for i in final_array: \n",
    "    if i[1] < 0.05: \n",
    "        print(f'The beta {float_formatter(i[0])} is statistically significant from 0 with a p-value of {float_formatter(i[1])}')\n",
    "    else: \n",
    "        print(f'The beta {float_formatter(i[0])} is not statistically significant from 0 with a p-value of {float_formatter(i[1])}')"
   ]
  },
  {
   "cell_type": "markdown",
   "metadata": {},
   "source": [
    "<b>Step 2:</b> You want to backtest a simple trading strategy that has you earning the monthly return of the stock from previous results in odd months (January, March, ...) and the monthly risk-free rate of return in the even months (February, April, ...). For simplicity, assume that you invest the same amount of money in this strategy every month, so that you can focus on average monthly returns rather than dollar-weighted average monthly returns. \n",
    "\n",
    "- Calculate (and print) the average monthly return of this trading strategy. \n",
    "- Estimate the CAPM alpha and beta associated with this trading strategy. Use the regression output---and if-else statements---to determine whether your CAPM alpha is statistically significantly different from zero (at 5% level in a two-sided hypothesis test) and whether the estimated CAPM beta is statistically significantly different from zero (at 5% level in a two-sided hypothesis test). "
   ]
  },
  {
   "cell_type": "code",
   "execution_count": 11,
   "metadata": {},
   "outputs": [],
   "source": [
    "n = np.load('SCON-monthly.npy')\n",
    "n_names = np.array(['yyyymm', 'year', 'close', 'mret', 'rf', 'mktrf', 'smb', 'hml']) \n",
    "rf_even = []\n",
    "mret_odd = []\n",
    "for i in n: \n",
    "    if i[0]%2 == 0: \n",
    "        rf_even.append(i)\n",
    "    else: \n",
    "        mret_odd.append(i)    "
   ]
  },
  {
   "cell_type": "code",
   "execution_count": 12,
   "metadata": {},
   "outputs": [],
   "source": [
    "for ele in rf_even: \n",
    "    ele[3]=ele[4] "
   ]
  },
  {
   "cell_type": "code",
   "execution_count": 13,
   "metadata": {},
   "outputs": [],
   "source": [
    "list_all = rf_even + mret_odd\n",
    "mret_odd_new = []\n",
    "def takefirst(l):\n",
    "    return l[0]\n",
    "\n",
    "for i in range(len(mret_odd)):\n",
    "    row = []\n",
    "    for j in range(len(mret_odd[i])):\n",
    "        row.append(mret_odd[i][j])\n",
    "    mret_odd_new.append(row)\n",
    "rf_even_new = []\n",
    "for i in range(len(rf_even)):\n",
    "    row = []\n",
    "    for j in range(len(rf_even[i])):\n",
    "        row.append(rf_even[i][j])\n",
    "    rf_even_new.append(row)\n",
    "list_all = mret_odd_new + rf_even_new\n",
    "list_all.sort(key=takefirst)"
   ]
  },
  {
   "cell_type": "code",
   "execution_count": 14,
   "metadata": {},
   "outputs": [
    {
     "name": "stdout",
     "output_type": "stream",
     "text": [
      " 0.5063\n"
     ]
    }
   ],
   "source": [
    "array_all = np.array(list_all) \n",
    "a_names = np.array(['yyyymm', 'year', 'close', 'mret', 'rf', 'mktrf', 'smb', 'hml'])\n",
    "mo_ret = array_all[:,a_names=='mret'] \n",
    "avg_monthly_return = np.mean(mo_ret)\n",
    "print(float_formatter(avg_monthly_return))"
   ]
  },
  {
   "cell_type": "code",
   "execution_count": 15,
   "metadata": {},
   "outputs": [],
   "source": [
    "rf = array_all[:, a_names=='rf'].reshape(36,1)\n",
    "y = array_all[:, a_names=='mret'].reshape(36,1) - rf\n",
    "mktrf = array_all[:, a_names=='mktrf'].reshape(36,1)"
   ]
  },
  {
   "cell_type": "code",
   "execution_count": 16,
   "metadata": {},
   "outputs": [
    {
     "data": {
      "text/html": [
       "<table class=\"simpletable\">\n",
       "<caption>OLS Regression Results</caption>\n",
       "<tr>\n",
       "  <th>Dep. Variable:</th>            <td>y</td>        <th>  R-squared:         </th> <td>   0.020</td>\n",
       "</tr>\n",
       "<tr>\n",
       "  <th>Model:</th>                   <td>OLS</td>       <th>  Adj. R-squared:    </th> <td>  -0.009</td>\n",
       "</tr>\n",
       "<tr>\n",
       "  <th>Method:</th>             <td>Least Squares</td>  <th>  F-statistic:       </th> <td>  0.6993</td>\n",
       "</tr>\n",
       "<tr>\n",
       "  <th>Date:</th>             <td>Fri, 11 Sep 2020</td> <th>  Prob (F-statistic):</th>  <td> 0.409</td> \n",
       "</tr>\n",
       "<tr>\n",
       "  <th>Time:</th>                 <td>02:35:29</td>     <th>  Log-Likelihood:    </th> <td> -28.129</td>\n",
       "</tr>\n",
       "<tr>\n",
       "  <th>No. Observations:</th>      <td>    36</td>      <th>  AIC:               </th> <td>   60.26</td>\n",
       "</tr>\n",
       "<tr>\n",
       "  <th>Df Residuals:</th>          <td>    34</td>      <th>  BIC:               </th> <td>   63.42</td>\n",
       "</tr>\n",
       "<tr>\n",
       "  <th>Df Model:</th>              <td>     1</td>      <th>                     </th>     <td> </td>   \n",
       "</tr>\n",
       "<tr>\n",
       "  <th>Covariance Type:</th>      <td>nonrobust</td>    <th>                     </th>     <td> </td>   \n",
       "</tr>\n",
       "</table>\n",
       "<table class=\"simpletable\">\n",
       "<tr>\n",
       "    <td></td>       <th>coef</th>     <th>std err</th>      <th>t</th>      <th>P>|t|</th>  <th>[0.025</th>    <th>0.975]</th>  \n",
       "</tr>\n",
       "<tr>\n",
       "  <th>const</th> <td>    0.4820</td> <td>    0.095</td> <td>    5.070</td> <td> 0.000</td> <td>    0.289</td> <td>    0.675</td>\n",
       "</tr>\n",
       "<tr>\n",
       "  <th>x1</th>    <td>    2.5708</td> <td>    3.074</td> <td>    0.836</td> <td> 0.409</td> <td>   -3.677</td> <td>    8.818</td>\n",
       "</tr>\n",
       "</table>\n",
       "<table class=\"simpletable\">\n",
       "<tr>\n",
       "  <th>Omnibus:</th>       <td>15.907</td> <th>  Durbin-Watson:     </th> <td>   3.688</td>\n",
       "</tr>\n",
       "<tr>\n",
       "  <th>Prob(Omnibus):</th> <td> 0.000</td> <th>  Jarque-Bera (JB):  </th> <td>   3.353</td>\n",
       "</tr>\n",
       "<tr>\n",
       "  <th>Skew:</th>          <td> 0.256</td> <th>  Prob(JB):          </th> <td>   0.187</td>\n",
       "</tr>\n",
       "<tr>\n",
       "  <th>Kurtosis:</th>      <td> 1.595</td> <th>  Cond. No.          </th> <td>    33.9</td>\n",
       "</tr>\n",
       "</table><br/><br/>Warnings:<br/>[1] Standard Errors assume that the covariance matrix of the errors is correctly specified."
      ],
      "text/plain": [
       "<class 'statsmodels.iolib.summary.Summary'>\n",
       "\"\"\"\n",
       "                            OLS Regression Results                            \n",
       "==============================================================================\n",
       "Dep. Variable:                      y   R-squared:                       0.020\n",
       "Model:                            OLS   Adj. R-squared:                 -0.009\n",
       "Method:                 Least Squares   F-statistic:                    0.6993\n",
       "Date:                Fri, 11 Sep 2020   Prob (F-statistic):              0.409\n",
       "Time:                        02:35:29   Log-Likelihood:                -28.129\n",
       "No. Observations:                  36   AIC:                             60.26\n",
       "Df Residuals:                      34   BIC:                             63.42\n",
       "Df Model:                           1                                         \n",
       "Covariance Type:            nonrobust                                         \n",
       "==============================================================================\n",
       "                 coef    std err          t      P>|t|      [0.025      0.975]\n",
       "------------------------------------------------------------------------------\n",
       "const          0.4820      0.095      5.070      0.000       0.289       0.675\n",
       "x1             2.5708      3.074      0.836      0.409      -3.677       8.818\n",
       "==============================================================================\n",
       "Omnibus:                       15.907   Durbin-Watson:                   3.688\n",
       "Prob(Omnibus):                  0.000   Jarque-Bera (JB):                3.353\n",
       "Skew:                           0.256   Prob(JB):                        0.187\n",
       "Kurtosis:                       1.595   Cond. No.                         33.9\n",
       "==============================================================================\n",
       "\n",
       "Warnings:\n",
       "[1] Standard Errors assume that the covariance matrix of the errors is correctly specified.\n",
       "\"\"\""
      ]
     },
     "execution_count": 16,
     "metadata": {},
     "output_type": "execute_result"
    }
   ],
   "source": [
    "reg_m(y,mktrf).summary()"
   ]
  },
  {
   "cell_type": "code",
   "execution_count": 17,
   "metadata": {},
   "outputs": [],
   "source": [
    "result2 = reg_m(y,mktrf)"
   ]
  },
  {
   "cell_type": "code",
   "execution_count": 18,
   "metadata": {},
   "outputs": [
    {
     "name": "stdout",
     "output_type": "stream",
     "text": [
      "The alpha is statistically significant from 0 with a coefficient of  0.4820 and a p-value of  0.0000\n"
     ]
    }
   ],
   "source": [
    "alpha = result2.params[0]\n",
    "alpha = float_formatter(alpha)\n",
    "a_pvalue = result2.pvalues[0]\n",
    "a_pvalue = float_formatter(a_pvalue)\n",
    "print(f'The alpha is statistically significant from 0 with a coefficient of {alpha} and a p-value of {a_pvalue}')"
   ]
  },
  {
   "cell_type": "code",
   "execution_count": 19,
   "metadata": {},
   "outputs": [
    {
     "name": "stdout",
     "output_type": "stream",
     "text": [
      "The beta is not statistically significant from 0 with a coefficient of  2.5708 and a p-value of  0.4089\n"
     ]
    }
   ],
   "source": [
    "beta = result2.params[1]\n",
    "beta = float_formatter(beta)\n",
    "b_pvalues = result2.pvalues[1]\n",
    "b_pvalues = float_formatter(b_pvalues)\n",
    "print(f'The beta is not statistically significant from 0 with a coefficient of {beta} and a p-value of {b_pvalues}')"
   ]
  },
  {
   "cell_type": "code",
   "execution_count": null,
   "metadata": {},
   "outputs": [],
   "source": []
  }
 ],
 "metadata": {
  "kernelspec": {
   "display_name": "Python 3",
   "language": "python",
   "name": "python3"
  },
  "language_info": {
   "codemirror_mode": {
    "name": "ipython",
    "version": 3
   },
   "file_extension": ".py",
   "mimetype": "text/x-python",
   "name": "python",
   "nbconvert_exporter": "python",
   "pygments_lexer": "ipython3",
   "version": "3.8.3"
  }
 },
 "nbformat": 4,
 "nbformat_minor": 4
}
